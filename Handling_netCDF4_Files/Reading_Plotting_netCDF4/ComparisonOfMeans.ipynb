{
 "cells": [
  {
   "cell_type": "markdown",
   "metadata": {},
   "source": [
    "#  Comparing the data"
   ]
  },
  {
   "cell_type": "code",
   "execution_count": 24,
   "metadata": {},
   "outputs": [],
   "source": [
    "from netCDF4 import Dataset\n",
    "import matplotlib.pyplot as plt\n",
    "import numpy as np\n",
    "import pandas as pd\n",
    "import glob\n",
    "\n",
    "maxes,mins = [],[]\n",
    "\n",
    "x = glob.glob('D:/Data Analysis/compare/*.nc')\n",
    "y = glob.glob('D:/DailyMinTemp/tasmin_hadukgrid_uk_1km_day_2000*.nc')\n",
    "\n",
    "\n",
    "for TempMax,TempMin in zip(x,y):\n",
    "    MaxSet = Dataset(TempMax)\n",
    "    MinSet = Dataset(TempMin)\n",
    "    minimum = MinSet.variables['tasmin'][:].mean()\n",
    "    maximum = MaxSet.variables['tasmax'][:].mean()\n",
    "    maxes.append(maximum)\n",
    "    mins.append(minimum)\n"
   ]
  },
  {
   "cell_type": "code",
   "execution_count": 54,
   "metadata": {},
   "outputs": [
    {
     "name": "stdout",
     "output_type": "stream",
     "text": [
      "[4.316603063357591, 5.0724901485041745, 6.504235977704425, 6.743481806344477, 10.807358533621072, 13.157105397824743, 14.093842945457094, 15.179375964887459, 13.462300735934447, 9.287262340220531, 5.834414371086915, 4.6002151874032124]\n",
      "[ 4.337486    5.06260234  6.53296648  6.71584657 10.8558415  13.17461036\n",
      " 14.10065793 15.17818418 13.44216052  9.2516191   5.82204345  4.59741038]\n",
      "\n",
      "Pearsons coeff\n",
      "0.9999818783026289\n"
     ]
    }
   ],
   "source": [
    "we = Dataset('D:/Monthly Temp/tas_hadukgrid_uk_1km_mon_200001-200012.nc')\n",
    "t = we.variables['tas'][:]\n",
    "monthlypre = []\n",
    "for item in t:\n",
    "    monthlypre.append(item.mean())\n",
    "    \n",
    "print(monthlypre)\n",
    "\n",
    "\n",
    "monthlymymade = (((np.array(maxes)+np.array(mins)))/2)\n",
    "print(monthlymymade)\n",
    "print('\\nPearsons coeff')\n",
    "print((np.corrcoef(monthlypre,monthlymymade))[1,0])"
   ]
  },
  {
   "cell_type": "code",
   "execution_count": 26,
   "metadata": {},
   "outputs": [
    {
     "name": "stdout",
     "output_type": "stream",
     "text": [
      "[7.2358999105069595, 8.128685425532389, 9.97876885213258, 10.494577683291526, 15.459202183286333, 17.25867706272147, 18.218027979735417, 19.568921442308127, 17.063449248344547, 12.477619958296032, 8.666653287722934, 6.961580024826384]\n",
      "[1.4390720870931928, 1.9965192601812036, 3.0871641176505946, 2.9371154499798693, 6.25248081137206, 9.090543665725084, 9.983287877939668, 10.787446922207955, 9.820871801469153, 6.02561824251113, 2.97743361403135, 2.233240741609217]\n"
     ]
    }
   ],
   "source": []
  }
 ],
 "metadata": {
  "kernelspec": {
   "display_name": "Python 3",
   "language": "python",
   "name": "python3"
  },
  "language_info": {
   "codemirror_mode": {
    "name": "ipython",
    "version": 3
   },
   "file_extension": ".py",
   "mimetype": "text/x-python",
   "name": "python",
   "nbconvert_exporter": "python",
   "pygments_lexer": "ipython3",
   "version": "3.6.8"
  }
 },
 "nbformat": 4,
 "nbformat_minor": 2
}
